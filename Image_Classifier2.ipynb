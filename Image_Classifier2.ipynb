{
  "cells": [
    {
      "cell_type": "markdown",
      "metadata": {
        "id": "view-in-github",
        "colab_type": "text"
      },
      "source": [
        "<a href=\"https://colab.research.google.com/github/Agiseri/Image-Classifier/blob/main/Image_Classifier2.ipynb\" target=\"_parent\"><img src=\"https://colab.research.google.com/assets/colab-badge.svg\" alt=\"Open In Colab\"/></a>"
      ]
    },
    {
      "cell_type": "markdown",
      "id": "d979758e",
      "metadata": {
        "papermill": {
          "duration": 0.017808,
          "end_time": "2022-09-16T09:42:19.475322",
          "exception": false,
          "start_time": "2022-09-16T09:42:19.457514",
          "status": "completed"
        },
        "tags": [],
        "id": "d979758e"
      },
      "source": [
        "# Multiclass Classification | Caltech101 |Tensorflow\n",
        "Hi everyone! In this my new notebook we're going to learn how to predict classes of objects with given images coords in dataset, using VGG16 (CNN) by Tensorflow. \n",
        "\n",
        "### 🥰 Acknowledgements\n",
        "[Multi-class object detection and bounding box regression with Keras, TensorFlow, and Deep Learning](https://pyimagesearch.com/2020/10/12/multi-class-object-detection-and-bounding-box-regression-with-keras-tensorflow-and-deep-learning/) by Adrian Rosebrock."
      ]
    },
    {
      "cell_type": "markdown",
      "id": "89c0539a",
      "metadata": {
        "papermill": {
          "duration": 0.014015,
          "end_time": "2022-09-16T09:42:19.533295",
          "exception": false,
          "start_time": "2022-09-16T09:42:19.519280",
          "status": "completed"
        },
        "tags": [],
        "id": "89c0539a"
      },
      "source": [
        "# 📚 Libraries\n",
        "Firslty, we need to import custom library *imutils* by Adrian Rosebrock. It will be imported from folders that were loaded by be to Kaggle:"
      ]
    },
    {
      "cell_type": "code",
      "execution_count": null,
      "id": "23ade32c",
      "metadata": {
        "execution": {
          "iopub.execute_input": "2022-09-16T09:42:19.565518Z",
          "iopub.status.busy": "2022-09-16T09:42:19.564878Z",
          "iopub.status.idle": "2022-09-16T09:42:19.580170Z",
          "shell.execute_reply": "2022-09-16T09:42:19.578993Z"
        },
        "papermill": {
          "duration": 0.035033,
          "end_time": "2022-09-16T09:42:19.583050",
          "exception": false,
          "start_time": "2022-09-16T09:42:19.548017",
          "status": "completed"
        },
        "tags": [],
        "id": "23ade32c"
      },
      "outputs": [],
      "source": [
        "# adding imutils to our virtual environment\n",
        "import sys\n",
        "sys.path.append('../input/imutils-054/imutils-0.5.4')"
      ]
    },
    {
      "cell_type": "markdown",
      "id": "0f7d35f5",
      "metadata": {
        "papermill": {
          "duration": 0.014605,
          "end_time": "2022-09-16T09:42:19.612325",
          "exception": false,
          "start_time": "2022-09-16T09:42:19.597720",
          "status": "completed"
        },
        "tags": [],
        "id": "0f7d35f5"
      },
      "source": [
        "Also, we'll use *os, opencv, matplotlib, numpy, tensorflow, sklearn, etc*."
      ]
    },
    {
      "cell_type": "code",
      "execution_count": null,
      "id": "4e637ffe",
      "metadata": {
        "execution": {
          "iopub.execute_input": "2022-09-16T09:42:19.644259Z",
          "iopub.status.busy": "2022-09-16T09:42:19.643880Z",
          "iopub.status.idle": "2022-09-16T09:42:27.402447Z",
          "shell.execute_reply": "2022-09-16T09:42:27.401060Z"
        },
        "papermill": {
          "duration": 7.778603,
          "end_time": "2022-09-16T09:42:27.405906",
          "exception": false,
          "start_time": "2022-09-16T09:42:19.627303",
          "status": "completed"
        },
        "tags": [],
        "id": "4e637ffe"
      },
      "outputs": [],
      "source": [
        "import imutils\n",
        "import os\n",
        "import cv2\n",
        "import datetime\n",
        "import numpy as np\n",
        "import random\n",
        "\n",
        "import matplotlib.pyplot as plt\n",
        "from sklearn.model_selection import train_test_split\n",
        "\n",
        "from tensorflow.keras.layers import Flatten\n",
        "from tensorflow.keras.layers import Dense\n",
        "from tensorflow.keras.layers import Input\n",
        "from tensorflow.keras.models import Model\n",
        "from tensorflow.keras.optimizers import Adam\n",
        "from tensorflow.keras.preprocessing.image import img_to_array\n",
        "from tensorflow.keras.preprocessing.image import load_img\n",
        "from tensorflow.keras.models import load_model\n",
        "from tensorflow.keras.applications import VGG16\n",
        "from tensorflow.keras.layers import Dropout\n",
        "from tensorflow.keras.utils import to_categorical\n",
        "from  tensorflow.keras.callbacks import ModelCheckpoint\n",
        "\n",
        "from sklearn.preprocessing import LabelBinarizer\n",
        "\n",
        "import pickle"
      ]
    },
    {
      "cell_type": "markdown",
      "id": "c33c2795",
      "metadata": {
        "papermill": {
          "duration": 0.013819,
          "end_time": "2022-09-16T09:42:27.434120",
          "exception": false,
          "start_time": "2022-09-16T09:42:27.420301",
          "status": "completed"
        },
        "tags": [],
        "id": "c33c2795"
      },
      "source": [
        "# 🖍 Initialize variables\n",
        "These variables will store out input data, target labels and also names of image files."
      ]
    },
    {
      "cell_type": "code",
      "execution_count": null,
      "id": "1d4bb535",
      "metadata": {
        "execution": {
          "iopub.execute_input": "2022-09-16T09:42:27.463820Z",
          "iopub.status.busy": "2022-09-16T09:42:27.463166Z",
          "iopub.status.idle": "2022-09-16T09:42:27.469253Z",
          "shell.execute_reply": "2022-09-16T09:42:27.467781Z"
        },
        "papermill": {
          "duration": 0.023741,
          "end_time": "2022-09-16T09:42:27.471999",
          "exception": false,
          "start_time": "2022-09-16T09:42:27.448258",
          "status": "completed"
        },
        "tags": [],
        "id": "1d4bb535"
      },
      "outputs": [],
      "source": [
        "data = []\n",
        "labels = []\n",
        "imagePaths = []"
      ]
    },
    {
      "cell_type": "markdown",
      "id": "3eeb0a3e",
      "metadata": {
        "papermill": {
          "duration": 0.014369,
          "end_time": "2022-09-16T09:42:27.499961",
          "exception": false,
          "start_time": "2022-09-16T09:42:27.485592",
          "status": "completed"
        },
        "tags": [],
        "id": "3eeb0a3e"
      },
      "source": [
        "# 📖 Load dataset (images, classes)\n",
        "Annotation file has classes (names of folders). "
      ]
    },
    {
      "cell_type": "code",
      "execution_count": null,
      "id": "a5294352",
      "metadata": {
        "execution": {
          "iopub.execute_input": "2022-09-16T09:42:27.532239Z",
          "iopub.status.busy": "2022-09-16T09:42:27.530962Z",
          "iopub.status.idle": "2022-09-16T09:42:27.538060Z",
          "shell.execute_reply": "2022-09-16T09:42:27.536738Z"
        },
        "papermill": {
          "duration": 0.025961,
          "end_time": "2022-09-16T09:42:27.540910",
          "exception": false,
          "start_time": "2022-09-16T09:42:27.514949",
          "status": "completed"
        },
        "tags": [],
        "id": "a5294352"
      },
      "outputs": [],
      "source": [
        "images_path = \"../input/caltech101-airplanes-motorbikes-schooners/caltech101_classification\""
      ]
    },
    {
      "cell_type": "code",
      "execution_count": null,
      "id": "e24a31cc",
      "metadata": {
        "execution": {
          "iopub.execute_input": "2022-09-16T09:42:27.573094Z",
          "iopub.status.busy": "2022-09-16T09:42:27.571771Z",
          "iopub.status.idle": "2022-09-16T09:42:27.578574Z",
          "shell.execute_reply": "2022-09-16T09:42:27.577278Z"
        },
        "papermill": {
          "duration": 0.025738,
          "end_time": "2022-09-16T09:42:27.581636",
          "exception": false,
          "start_time": "2022-09-16T09:42:27.555898",
          "status": "completed"
        },
        "tags": [],
        "id": "e24a31cc"
      },
      "outputs": [],
      "source": [
        "classes = [\"Motorbikes\", \"airplanes\", \"schooner\"]"
      ]
    },
    {
      "cell_type": "code",
      "execution_count": null,
      "id": "37b41897",
      "metadata": {
        "execution": {
          "iopub.execute_input": "2022-09-16T09:42:27.613362Z",
          "iopub.status.busy": "2022-09-16T09:42:27.612136Z",
          "iopub.status.idle": "2022-09-16T09:42:27.619130Z",
          "shell.execute_reply": "2022-09-16T09:42:27.617870Z"
        },
        "papermill": {
          "duration": 0.025605,
          "end_time": "2022-09-16T09:42:27.621891",
          "exception": false,
          "start_time": "2022-09-16T09:42:27.596286",
          "status": "completed"
        },
        "tags": [],
        "id": "37b41897"
      },
      "outputs": [],
      "source": [
        "# counts number of images in each class\n",
        "def classes_counter(labels, class_name):\n",
        "    counter = 0\n",
        "    for l in labels:\n",
        "        if l == class_name:\n",
        "            counter += 1\n",
        "    return counter"
      ]
    },
    {
      "cell_type": "code",
      "execution_count": null,
      "id": "79bedfb0",
      "metadata": {
        "execution": {
          "iopub.execute_input": "2022-09-16T09:42:27.654269Z",
          "iopub.status.busy": "2022-09-16T09:42:27.652879Z",
          "iopub.status.idle": "2022-09-16T09:42:38.124166Z",
          "shell.execute_reply": "2022-09-16T09:42:38.122826Z"
        },
        "papermill": {
          "duration": 10.490902,
          "end_time": "2022-09-16T09:42:38.127378",
          "exception": false,
          "start_time": "2022-09-16T09:42:27.636476",
          "status": "completed"
        },
        "tags": [],
        "colab": {
          "base_uri": "https://localhost:8080/",
          "height": 252
        },
        "id": "79bedfb0",
        "outputId": "3a18ea4a-c94f-499b-ae50-d31c540923bb"
      },
      "outputs": [
        {
          "output_type": "stream",
          "name": "stdout",
          "text": [
            "../input/caltech101-airplanes-motorbikes-schooners/caltech101_classification/Motorbikes/\n"
          ]
        },
        {
          "output_type": "error",
          "ename": "FileNotFoundError",
          "evalue": "ignored",
          "traceback": [
            "\u001b[0;31m---------------------------------------------------------------------------\u001b[0m",
            "\u001b[0;31mFileNotFoundError\u001b[0m                         Traceback (most recent call last)",
            "\u001b[0;32m<ipython-input-7-dab0ae574fd8>\u001b[0m in \u001b[0;36m<module>\u001b[0;34m\u001b[0m\n\u001b[1;32m      6\u001b[0m \u001b[0;34m\u001b[0m\u001b[0m\n\u001b[1;32m      7\u001b[0m     \u001b[0;31m# get the list of the available images\u001b[0m\u001b[0;34m\u001b[0m\u001b[0;34m\u001b[0m\u001b[0;34m\u001b[0m\u001b[0m\n\u001b[0;32m----> 8\u001b[0;31m     \u001b[0;32mfor\u001b[0m \u001b[0mimage\u001b[0m \u001b[0;32min\u001b[0m \u001b[0mos\u001b[0m\u001b[0;34m.\u001b[0m\u001b[0mlistdir\u001b[0m\u001b[0;34m(\u001b[0m\u001b[0mpath_new\u001b[0m\u001b[0;34m)\u001b[0m\u001b[0;34m:\u001b[0m\u001b[0;34m\u001b[0m\u001b[0;34m\u001b[0m\u001b[0m\n\u001b[0m\u001b[1;32m      9\u001b[0m         \u001b[0;31m# get only images that\u001b[0m\u001b[0;34m\u001b[0m\u001b[0;34m\u001b[0m\u001b[0;34m\u001b[0m\u001b[0m\n\u001b[1;32m     10\u001b[0m         \u001b[0;31m# are located in folder\u001b[0m\u001b[0;34m\u001b[0m\u001b[0;34m\u001b[0m\u001b[0;34m\u001b[0m\u001b[0m\n",
            "\u001b[0;31mFileNotFoundError\u001b[0m: [Errno 2] No such file or directory: '../input/caltech101-airplanes-motorbikes-schooners/caltech101_classification/Motorbikes/'"
          ]
        }
      ],
      "source": [
        "for cl in classes:\n",
        "    images_list = [] \n",
        "    \n",
        "    path_new = images_path + \"/\" + cl + \"/\"\n",
        "    print(path_new)\n",
        "    \n",
        "    # get the list of the available images\n",
        "    for image in os.listdir(path_new): \n",
        "        # get only images that \n",
        "        # are located in folder\n",
        "        if (image.endswith(\".jpg\")):\n",
        "            images_list.append(image)\n",
        "    \n",
        "    # sort image_path in ascending order\n",
        "    images_list = sorted(images_list)  \n",
        "        \n",
        "    # loop over the images\n",
        "    for img in images_list:\n",
        "        label = cl\n",
        "        \n",
        "        image_path = os.path.sep.join([images_path, cl, img])\n",
        "        image = cv2.imread(image_path)\n",
        "        (h, w) = image.shape[:2]\n",
        "        \n",
        "        # load the image\n",
        "        image = load_img(image_path, target_size=(224, 224))\n",
        "        image = img_to_array(image)\n",
        "        \n",
        "        data.append(image)\n",
        "        labels.append(label)\n",
        "        imagePaths.append(image_path)"
      ]
    },
    {
      "cell_type": "code",
      "execution_count": null,
      "id": "6698cc42",
      "metadata": {
        "execution": {
          "iopub.execute_input": "2022-09-16T09:42:38.158760Z",
          "iopub.status.busy": "2022-09-16T09:42:38.158358Z",
          "iopub.status.idle": "2022-09-16T09:42:38.446651Z",
          "shell.execute_reply": "2022-09-16T09:42:38.445324Z"
        },
        "papermill": {
          "duration": 0.307987,
          "end_time": "2022-09-16T09:42:38.450341",
          "exception": false,
          "start_time": "2022-09-16T09:42:38.142354",
          "status": "completed"
        },
        "tags": [],
        "id": "6698cc42"
      },
      "outputs": [],
      "source": [
        "# show the output image\n",
        "imgplot = plt.imshow(image.astype('uint8'))\n",
        "plt.show()"
      ]
    },
    {
      "cell_type": "markdown",
      "id": "9ef17fb5",
      "metadata": {
        "papermill": {
          "duration": 0.015094,
          "end_time": "2022-09-16T09:42:38.481554",
          "exception": false,
          "start_time": "2022-09-16T09:42:38.466460",
          "status": "completed"
        },
        "tags": [],
        "id": "9ef17fb5"
      },
      "source": [
        "# 🔧 Data preparation"
      ]
    },
    {
      "cell_type": "markdown",
      "id": "1661e82f",
      "metadata": {
        "papermill": {
          "duration": 0.015787,
          "end_time": "2022-09-16T09:42:38.513858",
          "exception": false,
          "start_time": "2022-09-16T09:42:38.498071",
          "status": "completed"
        },
        "tags": [],
        "id": "1661e82f"
      },
      "source": [
        "Let's check **how many images** are in each class."
      ]
    },
    {
      "cell_type": "code",
      "execution_count": null,
      "id": "207ce553",
      "metadata": {
        "execution": {
          "iopub.execute_input": "2022-09-16T09:42:38.547436Z",
          "iopub.status.busy": "2022-09-16T09:42:38.547018Z",
          "iopub.status.idle": "2022-09-16T09:42:38.557234Z",
          "shell.execute_reply": "2022-09-16T09:42:38.555636Z"
        },
        "papermill": {
          "duration": 0.031809,
          "end_time": "2022-09-16T09:42:38.561340",
          "exception": false,
          "start_time": "2022-09-16T09:42:38.529531",
          "status": "completed"
        },
        "tags": [],
        "id": "207ce553"
      },
      "outputs": [],
      "source": [
        "counter_mtb = classes_counter(labels, \"Motorbikes\")\n",
        "counter_arp = classes_counter(labels, \"airplanes\")\n",
        "counter_sch = classes_counter(labels, \"schooner\")\n",
        "\n",
        "counter_mtb, counter_arp, counter_sch"
      ]
    },
    {
      "cell_type": "markdown",
      "id": "18c20507",
      "metadata": {
        "papermill": {
          "duration": 0.015937,
          "end_time": "2022-09-16T09:42:38.593500",
          "exception": false,
          "start_time": "2022-09-16T09:42:38.577563",
          "status": "completed"
        },
        "tags": [],
        "id": "18c20507"
      },
      "source": [
        "Here we get the **maximum value** of number of images."
      ]
    },
    {
      "cell_type": "code",
      "execution_count": null,
      "id": "7903e437",
      "metadata": {
        "execution": {
          "iopub.execute_input": "2022-09-16T09:42:38.627503Z",
          "iopub.status.busy": "2022-09-16T09:42:38.627116Z",
          "iopub.status.idle": "2022-09-16T09:42:38.632384Z",
          "shell.execute_reply": "2022-09-16T09:42:38.631082Z"
        },
        "papermill": {
          "duration": 0.0255,
          "end_time": "2022-09-16T09:42:38.634856",
          "exception": false,
          "start_time": "2022-09-16T09:42:38.609356",
          "status": "completed"
        },
        "tags": [],
        "id": "7903e437"
      },
      "outputs": [],
      "source": [
        "max_number = max(counter_mtb, counter_arp, counter_sch)"
      ]
    },
    {
      "cell_type": "markdown",
      "id": "88318d1a",
      "metadata": {
        "papermill": {
          "duration": 0.015583,
          "end_time": "2022-09-16T09:42:38.666096",
          "exception": false,
          "start_time": "2022-09-16T09:42:38.650513",
          "status": "completed"
        },
        "tags": [],
        "id": "88318d1a"
      },
      "source": [
        "As we can see, we don't have so much shooners, so we **need to augment** them. Also, I think, we'll create two more pictures of motorbikes in order to have also 800 pics. We'll do **scaling and rotating**."
      ]
    },
    {
      "cell_type": "code",
      "execution_count": null,
      "id": "ce261f77",
      "metadata": {
        "execution": {
          "iopub.execute_input": "2022-09-16T09:42:38.701240Z",
          "iopub.status.busy": "2022-09-16T09:42:38.699214Z",
          "iopub.status.idle": "2022-09-16T09:42:38.707599Z",
          "shell.execute_reply": "2022-09-16T09:42:38.706385Z"
        },
        "papermill": {
          "duration": 0.028775,
          "end_time": "2022-09-16T09:42:38.710291",
          "exception": false,
          "start_time": "2022-09-16T09:42:38.681516",
          "status": "completed"
        },
        "tags": [],
        "id": "ce261f77"
      },
      "outputs": [],
      "source": [
        "def make_scale(img):\n",
        "    # scale range\n",
        "    scale_val = random.uniform(0.8, 1.2)\n",
        "    imgScaled = cv2.resize(img.copy(), \n",
        "                           None, \n",
        "                           fx=scale_val, \n",
        "                           fy=scale_val)\n",
        "    \n",
        "    return imgScaled"
      ]
    },
    {
      "cell_type": "code",
      "execution_count": null,
      "id": "b6994166",
      "metadata": {
        "execution": {
          "iopub.execute_input": "2022-09-16T09:42:38.744631Z",
          "iopub.status.busy": "2022-09-16T09:42:38.742841Z",
          "iopub.status.idle": "2022-09-16T09:42:38.751336Z",
          "shell.execute_reply": "2022-09-16T09:42:38.750166Z"
        },
        "papermill": {
          "duration": 0.028137,
          "end_time": "2022-09-16T09:42:38.754001",
          "exception": false,
          "start_time": "2022-09-16T09:42:38.725864",
          "status": "completed"
        },
        "tags": [],
        "id": "b6994166"
      },
      "outputs": [],
      "source": [
        "def make_rotate(img):\n",
        "    (h, w) = img.shape[:2]\n",
        "    \n",
        "    # degrees range\n",
        "    rotate_val = random.uniform(-5, 5)\n",
        "    \n",
        "    # image center\n",
        "    center = (w / 2, h / 2)  \n",
        "    \n",
        "    # Rotation Matrix\n",
        "    M = cv2.getRotationMatrix2D(center, \n",
        "                                rotate_val, \n",
        "                                scale=1)\n",
        "    \n",
        "    imgRotated = cv2.warpAffine(img.copy(), \n",
        "                                M, \n",
        "                                (w, h))\n",
        "    return imgRotated"
      ]
    },
    {
      "cell_type": "markdown",
      "id": "bb42cd4a",
      "metadata": {
        "papermill": {
          "duration": 0.015688,
          "end_time": "2022-09-16T09:42:38.785413",
          "exception": false,
          "start_time": "2022-09-16T09:42:38.769725",
          "status": "completed"
        },
        "tags": [],
        "id": "bb42cd4a"
      },
      "source": [
        "Also, we need to check the number of images in each class in order to equalize number of images in each class. That's why we'll do an [**augmentation**](https://neptune.ai/blog/data-augmentation-in-python)."
      ]
    },
    {
      "cell_type": "code",
      "execution_count": null,
      "id": "3ed6123b",
      "metadata": {
        "execution": {
          "iopub.execute_input": "2022-09-16T09:42:38.818926Z",
          "iopub.status.busy": "2022-09-16T09:42:38.818469Z",
          "iopub.status.idle": "2022-09-16T09:42:38.829311Z",
          "shell.execute_reply": "2022-09-16T09:42:38.828004Z"
        },
        "papermill": {
          "duration": 0.031055,
          "end_time": "2022-09-16T09:42:38.832176",
          "exception": false,
          "start_time": "2022-09-16T09:42:38.801121",
          "status": "completed"
        },
        "tags": [],
        "id": "3ed6123b"
      },
      "outputs": [],
      "source": [
        "def augment_data(counter, max_number, class_name):\n",
        "    \n",
        "    # while we don't have a lot of images\n",
        "    while counter < max_number:\n",
        "        # loop through each image in list\n",
        "        \n",
        "        for img in data:\n",
        "            # check the number of images again\n",
        "            \n",
        "            if counter < max_number:\n",
        "                # make scaling\n",
        "                imgAug = img.copy()\n",
        "                imgAug = make_scale(imgAug)\n",
        "                \n",
        "                # temporary save the new image\n",
        "                cv2.imwrite(\"imgAug.jpg\", imgAug)\n",
        "                \n",
        "                # load the new image\n",
        "                imgAug = load_img(\"imgAug.jpg\", target_size=(224, 224))\n",
        "                imgAug = img_to_array(imgAug)\n",
        "                \n",
        "                # delete it from memory\n",
        "                os.remove(\"imgAug.jpg\")\n",
        "                \n",
        "                # add new image, it's label and path\n",
        "                data.append(imgAug)\n",
        "                labels.append(class_name)\n",
        "                imagePaths.append(image_path)\n",
        "                \n",
        "                # recalculate a counter\n",
        "                counter = classes_counter(labels, class_name)\n",
        "            else:\n",
        "                break\n",
        "\n",
        "            # make rotating\n",
        "            if counter < max_number:\n",
        "                imgAug = img.copy()\n",
        "                imgAug = make_rotate(imgAug)\n",
        "                \n",
        "                # temporary save the new image\n",
        "                cv2.imwrite(\"imgAug.jpg\", imgAug)\n",
        "                \n",
        "                # load the new image\n",
        "                imgAug = load_img(\"imgAug.jpg\", target_size=(224, 224))\n",
        "                imgAug = img_to_array(imgAug)\n",
        "                \n",
        "                # delete it from memory\n",
        "                os.remove(\"imgAug.jpg\")\n",
        "                \n",
        "                # add new image and it's label and path\n",
        "                data.append(imgAug)\n",
        "                labels.append(class_name)\n",
        "                imagePaths.append(image_path)\n",
        "                \n",
        "                # recalculate a counter\n",
        "                counter = classes_counter(labels, class_name)\n",
        "            else:\n",
        "                break"
      ]
    },
    {
      "cell_type": "markdown",
      "id": "3b881b5a",
      "metadata": {
        "papermill": {
          "duration": 0.015747,
          "end_time": "2022-09-16T09:42:38.863137",
          "exception": false,
          "start_time": "2022-09-16T09:42:38.847390",
          "status": "completed"
        },
        "tags": [],
        "id": "3b881b5a"
      },
      "source": [
        "Let's apply the augmentation to **\"Motorbikes\" and \"schooner\"** classes."
      ]
    },
    {
      "cell_type": "code",
      "execution_count": null,
      "id": "83527f07",
      "metadata": {
        "execution": {
          "iopub.execute_input": "2022-09-16T09:42:38.897212Z",
          "iopub.status.busy": "2022-09-16T09:42:38.896785Z",
          "iopub.status.idle": "2022-09-16T09:42:43.286846Z",
          "shell.execute_reply": "2022-09-16T09:42:43.285369Z"
        },
        "papermill": {
          "duration": 4.410653,
          "end_time": "2022-09-16T09:42:43.289790",
          "exception": false,
          "start_time": "2022-09-16T09:42:38.879137",
          "status": "completed"
        },
        "tags": [],
        "id": "83527f07"
      },
      "outputs": [],
      "source": [
        "augment_data(counter_mtb, max_number, \"Motorbikes\")\n",
        "augment_data(counter_sch, max_number, \"schooner\")"
      ]
    },
    {
      "cell_type": "markdown",
      "id": "750f991c",
      "metadata": {
        "papermill": {
          "duration": 0.017954,
          "end_time": "2022-09-16T09:42:43.329154",
          "exception": false,
          "start_time": "2022-09-16T09:42:43.311200",
          "status": "completed"
        },
        "tags": [],
        "id": "750f991c"
      },
      "source": [
        "Let's check **how many images** are in each class after augmentation."
      ]
    },
    {
      "cell_type": "code",
      "execution_count": null,
      "id": "b2d5dc35",
      "metadata": {
        "execution": {
          "iopub.execute_input": "2022-09-16T09:42:43.363617Z",
          "iopub.status.busy": "2022-09-16T09:42:43.362364Z",
          "iopub.status.idle": "2022-09-16T09:42:43.372720Z",
          "shell.execute_reply": "2022-09-16T09:42:43.371199Z"
        },
        "papermill": {
          "duration": 0.030814,
          "end_time": "2022-09-16T09:42:43.375633",
          "exception": false,
          "start_time": "2022-09-16T09:42:43.344819",
          "status": "completed"
        },
        "tags": [],
        "id": "b2d5dc35"
      },
      "outputs": [],
      "source": [
        "counter_mtb = classes_counter(labels, \"Motorbikes\")\n",
        "counter_arp = classes_counter(labels, \"airplanes\")\n",
        "counter_sch = classes_counter(labels, \"schooner\")\n",
        "\n",
        "counter_mtb, counter_arp, counter_sch"
      ]
    },
    {
      "cell_type": "markdown",
      "id": "5f76fab3",
      "metadata": {
        "papermill": {
          "duration": 0.015552,
          "end_time": "2022-09-16T09:42:43.406858",
          "exception": false,
          "start_time": "2022-09-16T09:42:43.391306",
          "status": "completed"
        },
        "tags": [],
        "id": "5f76fab3"
      },
      "source": [
        "As you can see, now we have an **equal number of images** in each class."
      ]
    },
    {
      "cell_type": "markdown",
      "id": "28906934",
      "metadata": {
        "papermill": {
          "duration": 0.015426,
          "end_time": "2022-09-16T09:42:43.438057",
          "exception": false,
          "start_time": "2022-09-16T09:42:43.422631",
          "status": "completed"
        },
        "tags": [],
        "id": "28906934"
      },
      "source": [
        "Also, we need to **normalize data** (convert from range [0, 255] to [0, 1])."
      ]
    },
    {
      "cell_type": "code",
      "execution_count": null,
      "id": "e5440672",
      "metadata": {
        "execution": {
          "iopub.execute_input": "2022-09-16T09:42:43.473362Z",
          "iopub.status.busy": "2022-09-16T09:42:43.471283Z",
          "iopub.status.idle": "2022-09-16T09:42:44.319605Z",
          "shell.execute_reply": "2022-09-16T09:42:44.318112Z"
        },
        "papermill": {
          "duration": 0.869104,
          "end_time": "2022-09-16T09:42:44.322716",
          "exception": false,
          "start_time": "2022-09-16T09:42:43.453612",
          "status": "completed"
        },
        "tags": [],
        "id": "e5440672"
      },
      "outputs": [],
      "source": [
        "# convert from the range [0, 255] to [0, 1]\n",
        "data = np.array(data, dtype=\"float32\") / 255.0"
      ]
    },
    {
      "cell_type": "markdown",
      "id": "fa808355",
      "metadata": {
        "papermill": {
          "duration": 0.014954,
          "end_time": "2022-09-16T09:42:44.353884",
          "exception": false,
          "start_time": "2022-09-16T09:42:44.338930",
          "status": "completed"
        },
        "tags": [],
        "id": "fa808355"
      },
      "source": [
        "Let's convert everything else to **numpy arrays** also."
      ]
    },
    {
      "cell_type": "code",
      "execution_count": null,
      "id": "018125db",
      "metadata": {
        "execution": {
          "iopub.execute_input": "2022-09-16T09:42:44.387273Z",
          "iopub.status.busy": "2022-09-16T09:42:44.385995Z",
          "iopub.status.idle": "2022-09-16T09:42:44.393327Z",
          "shell.execute_reply": "2022-09-16T09:42:44.392104Z"
        },
        "papermill": {
          "duration": 0.026362,
          "end_time": "2022-09-16T09:42:44.395970",
          "exception": false,
          "start_time": "2022-09-16T09:42:44.369608",
          "status": "completed"
        },
        "tags": [],
        "id": "018125db"
      },
      "outputs": [],
      "source": [
        "# convert to numpy array\n",
        "labels = np.array(labels)\n",
        "imagePaths = np.array(imagePaths)"
      ]
    },
    {
      "cell_type": "markdown",
      "id": "6cee142b",
      "metadata": {
        "papermill": {
          "duration": 0.014866,
          "end_time": "2022-09-16T09:42:44.425783",
          "exception": false,
          "start_time": "2022-09-16T09:42:44.410917",
          "status": "completed"
        },
        "tags": [],
        "id": "6cee142b"
      },
      "source": [
        "After that we **convert our class labels** (\"butterfly\", \"dalmatian\", \"dolphin\") to **[one-hot encoding](https://en.wikipedia.org/wiki/One-hot)**."
      ]
    },
    {
      "cell_type": "code",
      "execution_count": null,
      "id": "11af3bcd",
      "metadata": {
        "execution": {
          "iopub.execute_input": "2022-09-16T09:42:44.459278Z",
          "iopub.status.busy": "2022-09-16T09:42:44.458888Z",
          "iopub.status.idle": "2022-09-16T09:42:44.468165Z",
          "shell.execute_reply": "2022-09-16T09:42:44.466953Z"
        },
        "papermill": {
          "duration": 0.02951,
          "end_time": "2022-09-16T09:42:44.470851",
          "exception": false,
          "start_time": "2022-09-16T09:42:44.441341",
          "status": "completed"
        },
        "tags": [],
        "id": "11af3bcd"
      },
      "outputs": [],
      "source": [
        "# one-hot encoding on the labels\n",
        "lb = LabelBinarizer()\n",
        "labels = lb.fit_transform(labels)"
      ]
    },
    {
      "cell_type": "markdown",
      "id": "f7b581b8",
      "metadata": {
        "papermill": {
          "duration": 0.016198,
          "end_time": "2022-09-16T09:42:44.503117",
          "exception": false,
          "start_time": "2022-09-16T09:42:44.486919",
          "status": "completed"
        },
        "tags": [],
        "id": "f7b581b8"
      },
      "source": [
        "And, in general, we **need to check**: if it is binary classification (two classes) or multiclass classification (three or more classes)."
      ]
    },
    {
      "cell_type": "code",
      "execution_count": null,
      "id": "f0991fe8",
      "metadata": {
        "execution": {
          "iopub.execute_input": "2022-09-16T09:42:44.536257Z",
          "iopub.status.busy": "2022-09-16T09:42:44.535866Z",
          "iopub.status.idle": "2022-09-16T09:42:44.541247Z",
          "shell.execute_reply": "2022-09-16T09:42:44.539931Z"
        },
        "papermill": {
          "duration": 0.025326,
          "end_time": "2022-09-16T09:42:44.544342",
          "exception": false,
          "start_time": "2022-09-16T09:42:44.519016",
          "status": "completed"
        },
        "tags": [],
        "id": "f0991fe8"
      },
      "outputs": [],
      "source": [
        "if len(lb.classes_) == 2:\n",
        "    print(\"two classes\")\n",
        "    labels = to_categorical(labels)"
      ]
    },
    {
      "cell_type": "markdown",
      "id": "6efeb461",
      "metadata": {
        "papermill": {
          "duration": 0.015828,
          "end_time": "2022-09-16T09:42:44.575940",
          "exception": false,
          "start_time": "2022-09-16T09:42:44.560112",
          "status": "completed"
        },
        "tags": [],
        "id": "6efeb461"
      },
      "source": [
        "Here we **divide data to train and test sets**. I decided to divide into 95% to 5% respectively."
      ]
    },
    {
      "cell_type": "code",
      "execution_count": null,
      "id": "fe9b32f0",
      "metadata": {
        "execution": {
          "iopub.execute_input": "2022-09-16T09:42:44.609306Z",
          "iopub.status.busy": "2022-09-16T09:42:44.608954Z",
          "iopub.status.idle": "2022-09-16T09:42:45.162645Z",
          "shell.execute_reply": "2022-09-16T09:42:45.161213Z"
        },
        "papermill": {
          "duration": 0.574217,
          "end_time": "2022-09-16T09:42:45.165851",
          "exception": false,
          "start_time": "2022-09-16T09:42:44.591634",
          "status": "completed"
        },
        "tags": [],
        "id": "fe9b32f0"
      },
      "outputs": [],
      "source": [
        "split = train_test_split(data,\n",
        "                         labels,\n",
        "                         imagePaths,\n",
        "                         test_size=0.05,\n",
        "                         random_state=42)"
      ]
    },
    {
      "cell_type": "markdown",
      "id": "57d602d1",
      "metadata": {
        "papermill": {
          "duration": 0.016377,
          "end_time": "2022-09-16T09:42:45.199265",
          "exception": false,
          "start_time": "2022-09-16T09:42:45.182888",
          "status": "completed"
        },
        "tags": [],
        "id": "57d602d1"
      },
      "source": [
        "And **unpack** *split* variable to different variables."
      ]
    },
    {
      "cell_type": "code",
      "execution_count": null,
      "id": "cde70be0",
      "metadata": {
        "execution": {
          "iopub.execute_input": "2022-09-16T09:42:45.234827Z",
          "iopub.status.busy": "2022-09-16T09:42:45.233300Z",
          "iopub.status.idle": "2022-09-16T09:42:45.240780Z",
          "shell.execute_reply": "2022-09-16T09:42:45.239529Z"
        },
        "papermill": {
          "duration": 0.028211,
          "end_time": "2022-09-16T09:42:45.243596",
          "exception": false,
          "start_time": "2022-09-16T09:42:45.215385",
          "status": "completed"
        },
        "tags": [],
        "id": "cde70be0"
      },
      "outputs": [],
      "source": [
        "# unpack the data split\n",
        "(trainImages, testImages) = split[:2]\n",
        "(trainLabels, testLabels) = split[2:4]\n",
        "(trainPaths, testPaths) = split[4:]"
      ]
    },
    {
      "cell_type": "markdown",
      "id": "18cc6d25",
      "metadata": {
        "papermill": {
          "duration": 0.016234,
          "end_time": "2022-09-16T09:42:45.276246",
          "exception": false,
          "start_time": "2022-09-16T09:42:45.260012",
          "status": "completed"
        },
        "tags": [],
        "id": "18cc6d25"
      },
      "source": [
        "Also, we can **save names of test images** in a * *.txt file* in order to test neural network later."
      ]
    },
    {
      "cell_type": "code",
      "execution_count": null,
      "id": "9943cfe3",
      "metadata": {
        "execution": {
          "iopub.execute_input": "2022-09-16T09:42:45.309744Z",
          "iopub.status.busy": "2022-09-16T09:42:45.309296Z",
          "iopub.status.idle": "2022-09-16T09:42:45.317573Z",
          "shell.execute_reply": "2022-09-16T09:42:45.316332Z"
        },
        "papermill": {
          "duration": 0.028016,
          "end_time": "2022-09-16T09:42:45.320407",
          "exception": false,
          "start_time": "2022-09-16T09:42:45.292391",
          "status": "completed"
        },
        "tags": [],
        "id": "9943cfe3"
      },
      "outputs": [],
      "source": [
        "f = open(\"testing_multiclass.txt\", \"w\")\n",
        "f.write(\"\\n\".join(testPaths))\n",
        "f.close()"
      ]
    },
    {
      "cell_type": "markdown",
      "id": "1f6b8c0e",
      "metadata": {
        "papermill": {
          "duration": 0.01646,
          "end_time": "2022-09-16T09:42:45.353908",
          "exception": false,
          "start_time": "2022-09-16T09:42:45.337448",
          "status": "completed"
        },
        "tags": [],
        "id": "1f6b8c0e"
      },
      "source": [
        "# 🧠 Neural Network Architecture\n",
        "Here we'll use VGG16 neural network."
      ]
    },
    {
      "cell_type": "code",
      "execution_count": null,
      "id": "8a4dd98e",
      "metadata": {
        "_kg_hide-output": true,
        "execution": {
          "iopub.execute_input": "2022-09-16T09:42:45.391184Z",
          "iopub.status.busy": "2022-09-16T09:42:45.390777Z",
          "iopub.status.idle": "2022-09-16T09:42:49.731201Z",
          "shell.execute_reply": "2022-09-16T09:42:49.729653Z"
        },
        "papermill": {
          "duration": 4.363959,
          "end_time": "2022-09-16T09:42:49.734385",
          "exception": false,
          "start_time": "2022-09-16T09:42:45.370426",
          "status": "completed"
        },
        "tags": [],
        "id": "8a4dd98e"
      },
      "outputs": [],
      "source": [
        "vgg = VGG16(weights=\"imagenet\",\n",
        "            include_top=False,\n",
        "            input_tensor=Input(shape=(224, 224, 3)))"
      ]
    },
    {
      "cell_type": "code",
      "execution_count": null,
      "id": "2c70bdcc",
      "metadata": {
        "execution": {
          "iopub.execute_input": "2022-09-16T09:42:49.771631Z",
          "iopub.status.busy": "2022-09-16T09:42:49.770441Z",
          "iopub.status.idle": "2022-09-16T09:42:49.777816Z",
          "shell.execute_reply": "2022-09-16T09:42:49.776160Z"
        },
        "papermill": {
          "duration": 0.028458,
          "end_time": "2022-09-16T09:42:49.780610",
          "exception": false,
          "start_time": "2022-09-16T09:42:49.752152",
          "status": "completed"
        },
        "tags": [],
        "id": "2c70bdcc"
      },
      "outputs": [],
      "source": [
        "# freeze all layers of VGG \n",
        "# in order not to train them\n",
        "vgg.trainable = False"
      ]
    },
    {
      "cell_type": "code",
      "execution_count": null,
      "id": "64ded8d2",
      "metadata": {
        "execution": {
          "iopub.execute_input": "2022-09-16T09:42:49.817018Z",
          "iopub.status.busy": "2022-09-16T09:42:49.816664Z",
          "iopub.status.idle": "2022-09-16T09:42:49.827192Z",
          "shell.execute_reply": "2022-09-16T09:42:49.825868Z"
        },
        "papermill": {
          "duration": 0.032222,
          "end_time": "2022-09-16T09:42:49.830090",
          "exception": false,
          "start_time": "2022-09-16T09:42:49.797868",
          "status": "completed"
        },
        "tags": [],
        "id": "64ded8d2"
      },
      "outputs": [],
      "source": [
        "# flatten the max-pooling \n",
        "# output of VGG\n",
        "flatten = vgg.output\n",
        "flatten = Flatten()(flatten)"
      ]
    },
    {
      "cell_type": "markdown",
      "id": "f560c679",
      "metadata": {
        "papermill": {
          "duration": 0.017018,
          "end_time": "2022-09-16T09:42:49.863874",
          "exception": false,
          "start_time": "2022-09-16T09:42:49.846856",
          "status": "completed"
        },
        "tags": [],
        "id": "f560c679"
      },
      "source": [
        "And for **class prediction (classification task)** we'll use a softmax [**activation function**](https://en.wikipedia.org/wiki/Softmax_function)."
      ]
    },
    {
      "cell_type": "code",
      "execution_count": null,
      "id": "9fafe2ea",
      "metadata": {
        "execution": {
          "iopub.execute_input": "2022-09-16T09:42:49.900943Z",
          "iopub.status.busy": "2022-09-16T09:42:49.899830Z",
          "iopub.status.idle": "2022-09-16T09:42:49.942314Z",
          "shell.execute_reply": "2022-09-16T09:42:49.941016Z"
        },
        "papermill": {
          "duration": 0.063577,
          "end_time": "2022-09-16T09:42:49.945167",
          "exception": false,
          "start_time": "2022-09-16T09:42:49.881590",
          "status": "completed"
        },
        "tags": [],
        "id": "9fafe2ea"
      },
      "outputs": [],
      "source": [
        "# construct a second fully-connected \n",
        "# layer header to predict\n",
        "# the class label\n",
        "\n",
        "softmaxHead = Dense(512, activation=\"relu\")(flatten)\n",
        "softmaxHead = Dropout(0.5)(softmaxHead)\n",
        "softmaxHead = Dense(512, activation=\"relu\")(softmaxHead)\n",
        "softmaxHead = Dropout(0.5)(softmaxHead)\n",
        "\n",
        "softmaxHead = Dense(len(lb.classes_), \n",
        "                    activation=\"softmax\", \n",
        "                    name=\"class_label\")(softmaxHead)"
      ]
    },
    {
      "cell_type": "markdown",
      "id": "3d192725",
      "metadata": {
        "papermill": {
          "duration": 0.017228,
          "end_time": "2022-09-16T09:42:49.979932",
          "exception": false,
          "start_time": "2022-09-16T09:42:49.962704",
          "status": "completed"
        },
        "tags": [],
        "id": "3d192725"
      },
      "source": [
        "Finally, we need to **add this output** to our VGG16 model."
      ]
    },
    {
      "cell_type": "code",
      "execution_count": null,
      "id": "2c0ddf2c",
      "metadata": {
        "execution": {
          "iopub.execute_input": "2022-09-16T09:42:50.016985Z",
          "iopub.status.busy": "2022-09-16T09:42:50.015866Z",
          "iopub.status.idle": "2022-09-16T09:42:50.026413Z",
          "shell.execute_reply": "2022-09-16T09:42:50.025150Z"
        },
        "papermill": {
          "duration": 0.031847,
          "end_time": "2022-09-16T09:42:50.029243",
          "exception": false,
          "start_time": "2022-09-16T09:42:49.997396",
          "status": "completed"
        },
        "tags": [],
        "id": "2c0ddf2c"
      },
      "outputs": [],
      "source": [
        "model = Model(\n",
        "    inputs=vgg.input,\n",
        "    outputs=(softmaxHead))"
      ]
    },
    {
      "cell_type": "markdown",
      "id": "56c3e830",
      "metadata": {
        "papermill": {
          "duration": 0.017455,
          "end_time": "2022-09-16T09:42:50.064069",
          "exception": false,
          "start_time": "2022-09-16T09:42:50.046614",
          "status": "completed"
        },
        "tags": [],
        "id": "56c3e830"
      },
      "source": [
        "Also, we need to define some **hyperparameters** *(learning rate, number of epochs, size of batch)*."
      ]
    },
    {
      "cell_type": "code",
      "execution_count": null,
      "id": "1e0b305a",
      "metadata": {
        "execution": {
          "iopub.execute_input": "2022-09-16T09:42:50.100458Z",
          "iopub.status.busy": "2022-09-16T09:42:50.100098Z",
          "iopub.status.idle": "2022-09-16T09:42:50.106557Z",
          "shell.execute_reply": "2022-09-16T09:42:50.104888Z"
        },
        "papermill": {
          "duration": 0.028376,
          "end_time": "2022-09-16T09:42:50.109695",
          "exception": false,
          "start_time": "2022-09-16T09:42:50.081319",
          "status": "completed"
        },
        "tags": [],
        "id": "1e0b305a"
      },
      "outputs": [],
      "source": [
        "INIT_LR = 1e-4\n",
        "NUM_EPOCHS = 40\n",
        "BATCH_SIZE = 32"
      ]
    },
    {
      "cell_type": "markdown",
      "id": "5995fa1b",
      "metadata": {
        "papermill": {
          "duration": 0.016733,
          "end_time": "2022-09-16T09:42:50.143364",
          "exception": false,
          "start_time": "2022-09-16T09:42:50.126631",
          "status": "completed"
        },
        "tags": [],
        "id": "5995fa1b"
      },
      "source": [
        "Then we define a dictionary to set the **loss method**: *categorical crossentropy* for the class label."
      ]
    },
    {
      "cell_type": "code",
      "execution_count": null,
      "id": "60b5e3a9",
      "metadata": {
        "execution": {
          "iopub.execute_input": "2022-09-16T09:42:50.177441Z",
          "iopub.status.busy": "2022-09-16T09:42:50.176439Z",
          "iopub.status.idle": "2022-09-16T09:42:50.183020Z",
          "shell.execute_reply": "2022-09-16T09:42:50.181701Z"
        },
        "papermill": {
          "duration": 0.026026,
          "end_time": "2022-09-16T09:42:50.185359",
          "exception": false,
          "start_time": "2022-09-16T09:42:50.159333",
          "status": "completed"
        },
        "tags": [],
        "id": "60b5e3a9"
      },
      "outputs": [],
      "source": [
        "losses = {\n",
        "    \"class_label\": \"categorical_crossentropy\",\n",
        "}"
      ]
    },
    {
      "cell_type": "markdown",
      "id": "aec375d6",
      "metadata": {
        "papermill": {
          "duration": 0.01693,
          "end_time": "2022-09-16T09:42:50.219760",
          "exception": false,
          "start_time": "2022-09-16T09:42:50.202830",
          "status": "completed"
        },
        "tags": [],
        "id": "aec375d6"
      },
      "source": [
        "We need to construct a dictionary for our **target training output**."
      ]
    },
    {
      "cell_type": "code",
      "execution_count": null,
      "id": "7cce69fe",
      "metadata": {
        "execution": {
          "iopub.execute_input": "2022-09-16T09:42:50.254283Z",
          "iopub.status.busy": "2022-09-16T09:42:50.253901Z",
          "iopub.status.idle": "2022-09-16T09:42:50.260394Z",
          "shell.execute_reply": "2022-09-16T09:42:50.259197Z"
        },
        "papermill": {
          "duration": 0.027221,
          "end_time": "2022-09-16T09:42:50.262919",
          "exception": false,
          "start_time": "2022-09-16T09:42:50.235698",
          "status": "completed"
        },
        "tags": [],
        "id": "7cce69fe"
      },
      "outputs": [],
      "source": [
        "trainTargets = {\n",
        "    \"class_label\": trainLabels,\n",
        "}"
      ]
    },
    {
      "cell_type": "markdown",
      "id": "4b5bf25b",
      "metadata": {
        "papermill": {
          "duration": 0.016413,
          "end_time": "2022-09-16T09:42:50.296465",
          "exception": false,
          "start_time": "2022-09-16T09:42:50.280052",
          "status": "completed"
        },
        "tags": [],
        "id": "4b5bf25b"
      },
      "source": [
        "We need to construct a second dictionary, this one for our **target testing output**."
      ]
    },
    {
      "cell_type": "code",
      "execution_count": null,
      "id": "74c65301",
      "metadata": {
        "execution": {
          "iopub.execute_input": "2022-09-16T09:42:50.332729Z",
          "iopub.status.busy": "2022-09-16T09:42:50.330845Z",
          "iopub.status.idle": "2022-09-16T09:42:50.337130Z",
          "shell.execute_reply": "2022-09-16T09:42:50.335733Z"
        },
        "papermill": {
          "duration": 0.027404,
          "end_time": "2022-09-16T09:42:50.340299",
          "exception": false,
          "start_time": "2022-09-16T09:42:50.312895",
          "status": "completed"
        },
        "tags": [],
        "id": "74c65301"
      },
      "outputs": [],
      "source": [
        "testTargets = {\n",
        "    \"class_label\": testLabels,\n",
        "}"
      ]
    },
    {
      "cell_type": "markdown",
      "id": "6ba19069",
      "metadata": {
        "papermill": {
          "duration": 0.016777,
          "end_time": "2022-09-16T09:42:50.374075",
          "exception": false,
          "start_time": "2022-09-16T09:42:50.357298",
          "status": "completed"
        },
        "tags": [],
        "id": "6ba19069"
      },
      "source": [
        "Also, we would like to **save only the best model** from all epochs:"
      ]
    },
    {
      "cell_type": "code",
      "execution_count": null,
      "id": "ba227a6e",
      "metadata": {
        "execution": {
          "iopub.execute_input": "2022-09-16T09:42:50.412745Z",
          "iopub.status.busy": "2022-09-16T09:42:50.412240Z",
          "iopub.status.idle": "2022-09-16T09:42:50.418254Z",
          "shell.execute_reply": "2022-09-16T09:42:50.416918Z"
        },
        "papermill": {
          "duration": 0.027269,
          "end_time": "2022-09-16T09:42:50.420935",
          "exception": false,
          "start_time": "2022-09-16T09:42:50.393666",
          "status": "completed"
        },
        "tags": [],
        "id": "ba227a6e"
      },
      "outputs": [],
      "source": [
        "model_path = \"model.h5\"\n",
        "\n",
        "model_checkpoint_callback = ModelCheckpoint(\n",
        "    filepath=model_path,\n",
        "    monitor='val_accuracy',\n",
        "    mode='max',\n",
        "    save_best_only=True)"
      ]
    },
    {
      "cell_type": "markdown",
      "id": "b9c110da",
      "metadata": {
        "papermill": {
          "duration": 0.016593,
          "end_time": "2022-09-16T09:42:50.454519",
          "exception": false,
          "start_time": "2022-09-16T09:42:50.437926",
          "status": "completed"
        },
        "tags": [],
        "id": "b9c110da"
      },
      "source": [
        "In the end, we **initialize the optimizer, compile the model, and show the model summary**."
      ]
    },
    {
      "cell_type": "code",
      "execution_count": null,
      "id": "c458dce0",
      "metadata": {
        "_kg_hide-output": true,
        "execution": {
          "iopub.execute_input": "2022-09-16T09:42:50.490276Z",
          "iopub.status.busy": "2022-09-16T09:42:50.489870Z",
          "iopub.status.idle": "2022-09-16T09:42:50.513268Z",
          "shell.execute_reply": "2022-09-16T09:42:50.511666Z"
        },
        "papermill": {
          "duration": 0.045576,
          "end_time": "2022-09-16T09:42:50.517069",
          "exception": false,
          "start_time": "2022-09-16T09:42:50.471493",
          "status": "completed"
        },
        "tags": [],
        "id": "c458dce0"
      },
      "outputs": [],
      "source": [
        "opt = Adam(INIT_LR)\n",
        "\n",
        "model.compile(loss=losses, \n",
        "              optimizer=opt, \n",
        "              metrics=[\"accuracy\"])\n",
        "\n",
        "print(model.summary())"
      ]
    },
    {
      "cell_type": "markdown",
      "id": "86f39589",
      "metadata": {
        "papermill": {
          "duration": 0.017273,
          "end_time": "2022-09-16T09:42:50.552978",
          "exception": false,
          "start_time": "2022-09-16T09:42:50.535705",
          "status": "completed"
        },
        "tags": [],
        "id": "86f39589"
      },
      "source": [
        "# 🐎 Train Neural Network & Save best model\n",
        "Here we **train our VGG16 network** for class label prediction."
      ]
    },
    {
      "cell_type": "code",
      "execution_count": null,
      "id": "2a6dfeab",
      "metadata": {
        "_kg_hide-output": true,
        "execution": {
          "iopub.execute_input": "2022-09-16T09:42:50.589718Z",
          "iopub.status.busy": "2022-09-16T09:42:50.588715Z",
          "iopub.status.idle": "2022-09-16T09:47:16.949892Z",
          "shell.execute_reply": "2022-09-16T09:47:16.948417Z"
        },
        "papermill": {
          "duration": 266.383255,
          "end_time": "2022-09-16T09:47:16.953283",
          "exception": false,
          "start_time": "2022-09-16T09:42:50.570028",
          "status": "completed"
        },
        "tags": [],
        "id": "2a6dfeab"
      },
      "outputs": [],
      "source": [
        "H = model.fit(\n",
        "    trainImages, trainTargets,\n",
        "    validation_data=(testImages, testTargets),\n",
        "    batch_size=BATCH_SIZE,\n",
        "    epochs=NUM_EPOCHS,\n",
        "    callbacks=[model_checkpoint_callback],\n",
        "    verbose=1)"
      ]
    },
    {
      "cell_type": "markdown",
      "id": "d7f53efd",
      "metadata": {
        "papermill": {
          "duration": 0.201936,
          "end_time": "2022-09-16T09:47:17.352355",
          "exception": false,
          "start_time": "2022-09-16T09:47:17.150419",
          "status": "completed"
        },
        "tags": [],
        "id": "d7f53efd"
      },
      "source": [
        "# 💾 Save label binarizer"
      ]
    },
    {
      "cell_type": "code",
      "execution_count": null,
      "id": "dcf8c50c",
      "metadata": {
        "execution": {
          "iopub.execute_input": "2022-09-16T09:47:17.815118Z",
          "iopub.status.busy": "2022-09-16T09:47:17.813047Z",
          "iopub.status.idle": "2022-09-16T09:47:17.821623Z",
          "shell.execute_reply": "2022-09-16T09:47:17.820318Z"
        },
        "papermill": {
          "duration": 0.270538,
          "end_time": "2022-09-16T09:47:17.824177",
          "exception": false,
          "start_time": "2022-09-16T09:47:17.553639",
          "status": "completed"
        },
        "tags": [],
        "id": "dcf8c50c"
      },
      "outputs": [],
      "source": [
        "f = open(\"lb.pickle\", \"wb\")\n",
        "f.write(pickle.dumps(lb))\n",
        "f.close()"
      ]
    },
    {
      "cell_type": "markdown",
      "id": "9825bbc9",
      "metadata": {
        "papermill": {
          "duration": 0.20085,
          "end_time": "2022-09-16T09:47:18.227594",
          "exception": false,
          "start_time": "2022-09-16T09:47:18.026744",
          "status": "completed"
        },
        "tags": [],
        "id": "9825bbc9"
      },
      "source": [
        "# 📊 Visualize the results\n",
        "Here we'll visualize **loss and accuracy**."
      ]
    },
    {
      "cell_type": "code",
      "execution_count": null,
      "id": "d7c4a41a",
      "metadata": {
        "execution": {
          "iopub.execute_input": "2022-09-16T09:47:18.632637Z",
          "iopub.status.busy": "2022-09-16T09:47:18.632147Z",
          "iopub.status.idle": "2022-09-16T09:47:18.954858Z",
          "shell.execute_reply": "2022-09-16T09:47:18.953464Z"
        },
        "papermill": {
          "duration": 0.52673,
          "end_time": "2022-09-16T09:47:18.957628",
          "exception": false,
          "start_time": "2022-09-16T09:47:18.430898",
          "status": "completed"
        },
        "tags": [],
        "id": "d7c4a41a"
      },
      "outputs": [],
      "source": [
        "lossNames = [\"loss\"]\n",
        "\n",
        "N = np.arange(0, NUM_EPOCHS)\n",
        "plt.style.use(\"ggplot\")\n",
        "plt.figure(figsize=(17, 10))\n",
        "\n",
        "\n",
        "# plot the loss for both the training and validation data\n",
        "plt.title(\"Loss & Val Loss\")\n",
        "plt.xlabel(\"Epoch №\")\n",
        "plt.ylabel(\"Loss\")\n",
        "plt.plot(N, H.history[\"loss\"], label=\"loss\")\n",
        "plt.plot(N, H.history[\"val_loss\"], label=\"val_loss\")\n",
        "plt.legend()\n",
        "\n",
        "plt.show()"
      ]
    },
    {
      "cell_type": "code",
      "execution_count": null,
      "id": "6915d5d0",
      "metadata": {
        "execution": {
          "iopub.execute_input": "2022-09-16T09:47:19.364817Z",
          "iopub.status.busy": "2022-09-16T09:47:19.364366Z",
          "iopub.status.idle": "2022-09-16T09:47:19.726890Z",
          "shell.execute_reply": "2022-09-16T09:47:19.725556Z"
        },
        "papermill": {
          "duration": 0.567733,
          "end_time": "2022-09-16T09:47:19.729789",
          "exception": false,
          "start_time": "2022-09-16T09:47:19.162056",
          "status": "completed"
        },
        "tags": [],
        "id": "6915d5d0"
      },
      "outputs": [],
      "source": [
        "# create a new figure for the accuracies\n",
        "plt.style.use(\"ggplot\")\n",
        "plt.figure(figsize=(17, 10))\n",
        "\n",
        "plt.plot(N, H.history[\"accuracy\"], label=\"acc\")\n",
        "plt.plot(N, H.history[\"val_accuracy\"], label=\"val_acc\")\n",
        "\n",
        "plt.title(\"Accuracy & Val Accuracy\")\n",
        "plt.xlabel(\"Epoch №\")\n",
        "plt.ylabel(\"Accuracy\")\n",
        "plt.legend()"
      ]
    },
    {
      "cell_type": "markdown",
      "id": "c4d73220",
      "metadata": {
        "papermill": {
          "duration": 0.240504,
          "end_time": "2022-09-16T09:47:20.176162",
          "exception": false,
          "start_time": "2022-09-16T09:47:19.935658",
          "status": "completed"
        },
        "tags": [],
        "id": "c4d73220"
      },
      "source": [
        "# 📋 Test the model\n",
        "Let's **load filenames of test images**."
      ]
    },
    {
      "cell_type": "code",
      "execution_count": null,
      "id": "21ca7f28",
      "metadata": {
        "execution": {
          "iopub.execute_input": "2022-09-16T09:47:20.585343Z",
          "iopub.status.busy": "2022-09-16T09:47:20.584929Z",
          "iopub.status.idle": "2022-09-16T09:47:20.592303Z",
          "shell.execute_reply": "2022-09-16T09:47:20.590972Z"
        },
        "papermill": {
          "duration": 0.212012,
          "end_time": "2022-09-16T09:47:20.595111",
          "exception": false,
          "start_time": "2022-09-16T09:47:20.383099",
          "status": "completed"
        },
        "tags": [],
        "id": "21ca7f28"
      },
      "outputs": [],
      "source": [
        "path = \"testing_multiclass.txt\"\n",
        "filenames = open(path).read().strip().split(\"\\n\")\n",
        "imagePaths = []\n",
        "\n",
        "for f in filenames:\n",
        "    imagePaths.append(f)"
      ]
    },
    {
      "cell_type": "markdown",
      "id": "829a09ba",
      "metadata": {
        "papermill": {
          "duration": 0.200805,
          "end_time": "2022-09-16T09:47:20.993477",
          "exception": false,
          "start_time": "2022-09-16T09:47:20.792672",
          "status": "completed"
        },
        "tags": [],
        "id": "829a09ba"
      },
      "source": [
        "Let's **load the VGG16 model and label binarizer**."
      ]
    },
    {
      "cell_type": "code",
      "execution_count": null,
      "id": "54b9d1e3",
      "metadata": {
        "execution": {
          "iopub.execute_input": "2022-09-16T09:47:21.394322Z",
          "iopub.status.busy": "2022-09-16T09:47:21.393893Z",
          "iopub.status.idle": "2022-09-16T09:47:22.270238Z",
          "shell.execute_reply": "2022-09-16T09:47:22.268900Z"
        },
        "papermill": {
          "duration": 1.079666,
          "end_time": "2022-09-16T09:47:22.273373",
          "exception": false,
          "start_time": "2022-09-16T09:47:21.193707",
          "status": "completed"
        },
        "tags": [],
        "id": "54b9d1e3"
      },
      "outputs": [],
      "source": [
        "model = load_model(\"./model.h5\")"
      ]
    },
    {
      "cell_type": "code",
      "execution_count": null,
      "id": "dda113bb",
      "metadata": {
        "execution": {
          "iopub.execute_input": "2022-09-16T09:47:22.696916Z",
          "iopub.status.busy": "2022-09-16T09:47:22.696402Z",
          "iopub.status.idle": "2022-09-16T09:47:22.703579Z",
          "shell.execute_reply": "2022-09-16T09:47:22.702093Z"
        },
        "papermill": {
          "duration": 0.222323,
          "end_time": "2022-09-16T09:47:22.706437",
          "exception": false,
          "start_time": "2022-09-16T09:47:22.484114",
          "status": "completed"
        },
        "tags": [],
        "id": "dda113bb"
      },
      "outputs": [],
      "source": [
        "lb = pickle.loads(open(\"./lb.pickle\", \"rb\").read())"
      ]
    },
    {
      "cell_type": "markdown",
      "id": "5792e6ce",
      "metadata": {
        "papermill": {
          "duration": 0.203841,
          "end_time": "2022-09-16T09:47:23.155441",
          "exception": false,
          "start_time": "2022-09-16T09:47:22.951600",
          "status": "completed"
        },
        "tags": [],
        "id": "5792e6ce"
      },
      "source": [
        "Let's **predict class of test images**."
      ]
    },
    {
      "cell_type": "code",
      "execution_count": null,
      "id": "925fbe68",
      "metadata": {
        "execution": {
          "iopub.execute_input": "2022-09-16T09:47:23.563441Z",
          "iopub.status.busy": "2022-09-16T09:47:23.563003Z",
          "iopub.status.idle": "2022-09-16T09:47:27.995846Z",
          "shell.execute_reply": "2022-09-16T09:47:27.994286Z"
        },
        "papermill": {
          "duration": 4.642126,
          "end_time": "2022-09-16T09:47:27.998709",
          "exception": false,
          "start_time": "2022-09-16T09:47:23.356583",
          "status": "completed"
        },
        "tags": [],
        "id": "925fbe68"
      },
      "outputs": [],
      "source": [
        "# counter for viewing images\n",
        "cntr = 0\n",
        "\n",
        "for imagePath in imagePaths:\n",
        "\n",
        "    # load the input image\n",
        "    image = load_img(imagePath, target_size=(224, 224))\n",
        "    image = img_to_array(image) / 255.0\n",
        "    image = np.expand_dims(image, axis=0)\n",
        "\n",
        "    # predict classes\n",
        "    (labelPreds) = model.predict(image)\n",
        "\n",
        "    # determine the class label \n",
        "    # with the largest predicted\n",
        "    # probability\n",
        "    i = np.argmax(labelPreds, axis=1)\n",
        "    label = lb.classes_[i][0]\n",
        "\n",
        "    # load the input image (in OpenCV format)\n",
        "    image = cv2.imread(imagePath)\n",
        "    image = imutils.resize(image, width=600)\n",
        "    (h, w) = image.shape[:2]\n",
        "\n",
        "\n",
        "\n",
        "    # show the output image\n",
        "    print(\"class label = \", label)\n",
        "    imgplot = plt.imshow(cv2.cvtColor(image, \n",
        "                                      cv2.COLOR_BGR2RGB).astype('uint8'))\n",
        "    plt.show()\n",
        "    \n",
        "    # increment counter\n",
        "    cntr += 1\n",
        "    \n",
        "    # view only first 10 \n",
        "    # test images\n",
        "    if (cntr > 10):\n",
        "        break"
      ]
    },
    {
      "cell_type": "markdown",
      "id": "bf869695",
      "metadata": {
        "papermill": {
          "duration": 0.22361,
          "end_time": "2022-09-16T09:47:28.443970",
          "exception": false,
          "start_time": "2022-09-16T09:47:28.220360",
          "status": "completed"
        },
        "tags": [],
        "id": "bf869695"
      },
      "source": [
        "# 🧷 Conclusion\n",
        "As you can see, our model makes predictions quite correctly! That is great! That is all and thak you for your attetion.\n",
        "\n",
        "### 💖 If you liked it - please, make an upvote!\n",
        "### 💌 Subscribe to my YouTube Channel: [LearnAI](https://www.youtube.com/channel/UCEJ8IRbmEl3tEZahc17pwrw)\n",
        "### 📗 My notebooks on the similar topic: \n",
        "* #### [Stop Signs Detection | Bounding Box Regression](https://www.kaggle.com/code/maricinnamon/stop-signs-detection-bounding-box-regression)\n",
        "* #### [Bounding Box Regression & Object Classification](https://www.kaggle.com/code/maricinnamon/bounding-box-regression-object-classification)"
      ]
    }
  ],
  "metadata": {
    "kernelspec": {
      "display_name": "Python 3",
      "language": "python",
      "name": "python3"
    },
    "language_info": {
      "codemirror_mode": {
        "name": "ipython",
        "version": 3
      },
      "file_extension": ".py",
      "mimetype": "text/x-python",
      "name": "python",
      "nbconvert_exporter": "python",
      "pygments_lexer": "ipython3",
      "version": "3.7.12"
    },
    "papermill": {
      "default_parameters": {},
      "duration": 323.49042,
      "end_time": "2022-09-16T09:47:32.332557",
      "environment_variables": {},
      "exception": null,
      "input_path": "__notebook__.ipynb",
      "output_path": "__notebook__.ipynb",
      "parameters": {},
      "start_time": "2022-09-16T09:42:08.842137",
      "version": "2.3.4"
    },
    "colab": {
      "provenance": [],
      "collapsed_sections": [
        "1f6b8c0e",
        "86f39589",
        "d7f53efd",
        "9825bbc9",
        "c4d73220",
        "bf869695"
      ],
      "include_colab_link": true
    }
  },
  "nbformat": 4,
  "nbformat_minor": 5
}